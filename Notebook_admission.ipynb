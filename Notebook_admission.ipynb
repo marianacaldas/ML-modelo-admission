{
 "cells": [
  {
   "cell_type": "markdown",
   "id": "6ea773b3-fafd-4e23-8847-1b07d25c8fc8",
   "metadata": {},
   "source": [
    "# Introdução\n",
    "\n",
    "Este conjunto de dados foi criado para prever admissões de pós-graduação. Contém informações sobre candidatos a programas de pós-graduação para prever a chance de admissão com base em diferentes variáveis."
   ]
  },
  {
   "cell_type": "markdown",
   "id": "6e84b307-36f9-4bb3-931a-d245a78c22ea",
   "metadata": {},
   "source": [
    "### Fonte de Dados\n",
    "Os parâmetros incluídos são:\n",
    "\n",
    "- Pontuações GRE (1 a 340)\n",
    "- Pontuações do TOEFL (1 a 120)\n",
    "- Classificação da Universidade (1 a 5)\n",
    "- Declaração de propósito e força da carta de recomendação (1 a 5)\n",
    "- GPA de graduação (1 a 10)\n",
    "- Experiência em pesquisa (0 = No ou 1 = Yes)\n",
    "- Chance de admissão (variando de 0 a 1)\n"
   ]
  },
  {
   "cell_type": "code",
   "execution_count": 2,
   "id": "07235a78-31de-4a8a-8f0b-c059aa35d222",
   "metadata": {},
   "outputs": [],
   "source": [
    "import pandas as pd"
   ]
  },
  {
   "cell_type": "code",
   "execution_count": 3,
   "id": "d79de326-db5d-4493-abfd-f1da2e8675e7",
   "metadata": {},
   "outputs": [],
   "source": [
    "dataset = pd.read_csv('Admission_Predict.csv')"
   ]
  },
  {
   "cell_type": "code",
   "execution_count": 4,
   "id": "e81f7719-d8a7-44e9-9717-beea74980817",
   "metadata": {},
   "outputs": [
    {
     "data": {
      "text/html": [
       "<div>\n",
       "<style scoped>\n",
       "    .dataframe tbody tr th:only-of-type {\n",
       "        vertical-align: middle;\n",
       "    }\n",
       "\n",
       "    .dataframe tbody tr th {\n",
       "        vertical-align: top;\n",
       "    }\n",
       "\n",
       "    .dataframe thead th {\n",
       "        text-align: right;\n",
       "    }\n",
       "</style>\n",
       "<table border=\"1\" class=\"dataframe\">\n",
       "  <thead>\n",
       "    <tr style=\"text-align: right;\">\n",
       "      <th></th>\n",
       "      <th>Serial No.</th>\n",
       "      <th>GRE Score</th>\n",
       "      <th>TOEFL Score</th>\n",
       "      <th>University Rating</th>\n",
       "      <th>SOP</th>\n",
       "      <th>LOR</th>\n",
       "      <th>CGPA</th>\n",
       "      <th>Research</th>\n",
       "      <th>Chance of Admit</th>\n",
       "    </tr>\n",
       "  </thead>\n",
       "  <tbody>\n",
       "    <tr>\n",
       "      <th>0</th>\n",
       "      <td>1</td>\n",
       "      <td>337</td>\n",
       "      <td>118</td>\n",
       "      <td>4</td>\n",
       "      <td>4.5</td>\n",
       "      <td>4.5</td>\n",
       "      <td>9.65</td>\n",
       "      <td>1</td>\n",
       "      <td>0.92</td>\n",
       "    </tr>\n",
       "    <tr>\n",
       "      <th>1</th>\n",
       "      <td>2</td>\n",
       "      <td>324</td>\n",
       "      <td>107</td>\n",
       "      <td>4</td>\n",
       "      <td>4.0</td>\n",
       "      <td>4.5</td>\n",
       "      <td>8.87</td>\n",
       "      <td>1</td>\n",
       "      <td>0.76</td>\n",
       "    </tr>\n",
       "    <tr>\n",
       "      <th>2</th>\n",
       "      <td>3</td>\n",
       "      <td>316</td>\n",
       "      <td>104</td>\n",
       "      <td>3</td>\n",
       "      <td>3.0</td>\n",
       "      <td>3.5</td>\n",
       "      <td>8.00</td>\n",
       "      <td>1</td>\n",
       "      <td>0.72</td>\n",
       "    </tr>\n",
       "    <tr>\n",
       "      <th>3</th>\n",
       "      <td>4</td>\n",
       "      <td>322</td>\n",
       "      <td>110</td>\n",
       "      <td>3</td>\n",
       "      <td>3.5</td>\n",
       "      <td>2.5</td>\n",
       "      <td>8.67</td>\n",
       "      <td>1</td>\n",
       "      <td>0.80</td>\n",
       "    </tr>\n",
       "    <tr>\n",
       "      <th>4</th>\n",
       "      <td>5</td>\n",
       "      <td>314</td>\n",
       "      <td>103</td>\n",
       "      <td>2</td>\n",
       "      <td>2.0</td>\n",
       "      <td>3.0</td>\n",
       "      <td>8.21</td>\n",
       "      <td>0</td>\n",
       "      <td>0.65</td>\n",
       "    </tr>\n",
       "  </tbody>\n",
       "</table>\n",
       "</div>"
      ],
      "text/plain": [
       "   Serial No.  GRE Score  TOEFL Score  University Rating  SOP  LOR   CGPA  \\\n",
       "0           1        337          118                  4  4.5   4.5  9.65   \n",
       "1           2        324          107                  4  4.0   4.5  8.87   \n",
       "2           3        316          104                  3  3.0   3.5  8.00   \n",
       "3           4        322          110                  3  3.5   2.5  8.67   \n",
       "4           5        314          103                  2  2.0   3.0  8.21   \n",
       "\n",
       "   Research  Chance of Admit   \n",
       "0         1              0.92  \n",
       "1         1              0.76  \n",
       "2         1              0.72  \n",
       "3         1              0.80  \n",
       "4         0              0.65  "
      ]
     },
     "execution_count": 4,
     "metadata": {},
     "output_type": "execute_result"
    }
   ],
   "source": [
    "dataset.head()"
   ]
  },
  {
   "cell_type": "code",
   "execution_count": 5,
   "id": "45eb3db7-4217-4caf-b696-d0e58c485bc7",
   "metadata": {},
   "outputs": [
    {
     "data": {
      "text/plain": [
       "(400, 9)"
      ]
     },
     "execution_count": 5,
     "metadata": {},
     "output_type": "execute_result"
    }
   ],
   "source": [
    "dataset.shape"
   ]
  },
  {
   "cell_type": "code",
   "execution_count": 6,
   "id": "0c25811b-9b03-49cc-98a0-e7dadc1f87aa",
   "metadata": {},
   "outputs": [
    {
     "data": {
      "text/plain": [
       "Serial No.             int64\n",
       "GRE Score              int64\n",
       "TOEFL Score            int64\n",
       "University Rating      int64\n",
       "SOP                  float64\n",
       "LOR                  float64\n",
       "CGPA                 float64\n",
       "Research               int64\n",
       "Chance of Admit      float64\n",
       "dtype: object"
      ]
     },
     "execution_count": 6,
     "metadata": {},
     "output_type": "execute_result"
    }
   ],
   "source": [
    "dataset.dtypes"
   ]
  },
  {
   "cell_type": "code",
   "execution_count": 7,
   "id": "688d63b0-3a2a-41a0-ba7f-b063cb0eab40",
   "metadata": {},
   "outputs": [
    {
     "name": "stdout",
     "output_type": "stream",
     "text": [
      "Serial No.           0\n",
      "GRE Score            0\n",
      "TOEFL Score          0\n",
      "University Rating    0\n",
      "SOP                  0\n",
      "LOR                  0\n",
      "CGPA                 0\n",
      "Research             0\n",
      "Chance of Admit      0\n",
      "dtype: int64\n"
     ]
    }
   ],
   "source": [
    "faltantes = dataset.isnull().sum()\n",
    "print(faltantes)"
   ]
  },
  {
   "cell_type": "markdown",
   "id": "976ab95b-99f4-4800-9bec-eea4857c0563",
   "metadata": {},
   "source": [
    "Observamos que o dataset não possui nenhum dado faltando, sendo assim podemos prosseguir com o modelo."
   ]
  },
  {
   "cell_type": "code",
   "execution_count": 8,
   "id": "9b1ea979-6b54-49d1-9970-a923b9bf947c",
   "metadata": {},
   "outputs": [],
   "source": [
    "dataset.drop('Serial No.', axis=1, inplace=True)"
   ]
  },
  {
   "cell_type": "markdown",
   "id": "3e84de4c-7fe4-4513-ba85-8849974a9ae8",
   "metadata": {},
   "source": [
    "A coluna \"Serial No.\" é utilizada para numerar as linhas, portanto, podemos exclui-la do dataset."
   ]
  },
  {
   "cell_type": "code",
   "execution_count": 9,
   "id": "ecafc231-232f-4136-aaee-dab0761b922e",
   "metadata": {},
   "outputs": [],
   "source": [
    "# Separando as variáveis entre preditoras e variável target\n",
    "y = dataset['Chance of Admit ']\n",
    "x = dataset.drop('Chance of Admit ', axis = 1)"
   ]
  },
  {
   "cell_type": "markdown",
   "id": "e45ae347-1283-4c34-bec1-8207e3c317d8",
   "metadata": {},
   "source": [
    "### Machine Learning"
   ]
  },
  {
   "cell_type": "code",
   "execution_count": 10,
   "id": "984816d9-97bc-41e9-9f81-0c5dae6c46ad",
   "metadata": {},
   "outputs": [],
   "source": [
    "from sklearn.model_selection import train_test_split\n",
    "x_treino, x_teste, y_treino, y_teste = train_test_split(x, y, test_size=0.30, random_state=45)"
   ]
  },
  {
   "cell_type": "code",
   "execution_count": 12,
   "id": "41a9dd20-8053-4bd5-864b-869e3f9c40a8",
   "metadata": {},
   "outputs": [],
   "source": [
    "def modelsregresao(a, b, c, d):\n",
    "    from sklearn.linear_model import LinearRegression, Ridge, Lasso, ElasticNet\n",
    "\n",
    "    x_treino = a\n",
    "    y_treino = b\n",
    "    x_teste = c\n",
    "    y_teste = d\n",
    "    \n",
    "    # Instanciando os modelos\n",
    "    reg = LinearRegression()\n",
    "    ridge = Ridge()\n",
    "    lasso = Lasso()\n",
    "    elastic = ElasticNet()\n",
    "\n",
    "    # Treinando os modelos\n",
    "    reg.fit(x_treino, y_treino)\n",
    "    ridge.fit(x_treino, y_treino)\n",
    "    lasso.fit(x_treino, y_treino)\n",
    "    elastic.fit(x_treino, y_treino)\n",
    "\n",
    "    # Avaliando os modelos\n",
    "    resul_reg = reg.score(x_teste, y_teste)\n",
    "    resul_ridge = ridge.score(x_teste, y_teste)\n",
    "    resul_lasso = lasso.score(x_teste, y_teste)\n",
    "    resul_elastic = elastic.score(x_teste, y_teste)\n",
    "\n",
    "    # Criando dicionário de resultados\n",
    "    dic_regmodels = {\n",
    "        \"Linear\": resul_reg,\n",
    "        \"Ridge\": resul_ridge,\n",
    "        \"Lasso\": resul_lasso,\n",
    "        \"Elastic\": resul_elastic\n",
    "    }\n",
    "\n",
    "    # Encontrando o melhor modelo\n",
    "    melhor_modelo = max(dic_regmodels, key=dic_regmodels.get)\n",
    "\n",
    "    # Exibindo os resultados\n",
    "    print(f\"Regressão Linear: {resul_reg:.4f}\")\n",
    "    print(f\"Regressão Ridge: {resul_ridge:.4f}\")\n",
    "    print(f\"Regressão Lasso: {resul_lasso:.4f}\")\n",
    "    print(f\"Regressão Elastic: {resul_elastic:.4f}\")\n",
    "    print(f\"O melhor modelo foi: {melhor_modelo} com o valor {dic_regmodels[melhor_modelo]:.4f}\")"
   ]
  },
  {
   "cell_type": "code",
   "execution_count": 13,
   "id": "fd031970-596b-474a-93d2-63dc5221c56b",
   "metadata": {},
   "outputs": [
    {
     "name": "stdout",
     "output_type": "stream",
     "text": [
      "Regressão Linear: 0.8093\n",
      "Regressão Ridge: 0.8085\n",
      "Regressão Lasso: 0.2856\n",
      "Regressão Elastic: 0.5647\n",
      "O melhor modelo foi: Linear com o valor 0.8093\n"
     ]
    }
   ],
   "source": [
    "# Chamando a função\n",
    "modelsregresao(x_treino, y_treino, x_teste, y_teste)"
   ]
  },
  {
   "cell_type": "markdown",
   "id": "fe1a7845-e990-4d5b-bfed-bec41f0fe81c",
   "metadata": {},
   "source": [
    "### Conclusão\n",
    "\n",
    "Concluímos após a comparação dos modelos de regressão (Linear, Ridge, Lasso e Elastic) que o melhor modelo foi Regressão Linear, com um score de 0.8093, seguido de perto pelo Ridge (0.8085)."
   ]
  },
  {
   "cell_type": "code",
   "execution_count": null,
   "id": "190136e4-d211-4a80-9f59-705241fc2b4d",
   "metadata": {},
   "outputs": [],
   "source": []
  }
 ],
 "metadata": {
  "kernelspec": {
   "display_name": "Python 3 (ipykernel)",
   "language": "python",
   "name": "python3"
  },
  "language_info": {
   "codemirror_mode": {
    "name": "ipython",
    "version": 3
   },
   "file_extension": ".py",
   "mimetype": "text/x-python",
   "name": "python",
   "nbconvert_exporter": "python",
   "pygments_lexer": "ipython3",
   "version": "3.12.3"
  }
 },
 "nbformat": 4,
 "nbformat_minor": 5
}
